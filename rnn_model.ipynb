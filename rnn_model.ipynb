{
  "nbformat": 4,
  "nbformat_minor": 0,
  "metadata": {
    "colab": {
      "name": "rnn-model.ipynb",
      "provenance": []
    },
    "kernelspec": {
      "name": "python3",
      "display_name": "Python 3"
    },
    "language_info": {
      "name": "python"
    },
    "accelerator": "GPU"
  },
  "cells": [
    {
      "cell_type": "code",
      "metadata": {
        "colab": {
          "base_uri": "https://localhost:8080/"
        },
        "id": "DIo1q1A7bAum",
        "outputId": "1bb7146f-0acf-4b35-a491-ec76e2bafc86"
      },
      "source": [
        "from google.colab import drive\n",
        "drive.mount(\"/content/drive\")"
      ],
      "execution_count": 1,
      "outputs": [
        {
          "output_type": "stream",
          "name": "stdout",
          "text": [
            "Mounted at /content/drive\n"
          ]
        }
      ]
    },
    {
      "cell_type": "code",
      "metadata": {
        "id": "acg2Rot2bIAk"
      },
      "source": [
        "import pandas as pd\n",
        "\n",
        "X = pd.read_csv('/content/drive/MyDrive/disaster-tweets/train_data.csv')\n",
        "y = pd.read_csv(\"/content/drive/MyDrive/disaster-tweets/y.csv\")\n",
        "test = pd.read_csv(\"/content/drive/MyDrive/disaster-tweets/test_data.csv\")"
      ],
      "execution_count": 2,
      "outputs": []
    },
    {
      "cell_type": "code",
      "metadata": {
        "id": "7eA-1F6vcCIu"
      },
      "source": [
        "X_train = X.to_numpy().reshape(-1, 1, X.shape[1])\n",
        "test_c = test.to_numpy().reshape(-1, 1, test.shape[1])\n",
        "y_train = y.to_numpy().reshape(-1, 1, 1)"
      ],
      "execution_count": 3,
      "outputs": []
    },
    {
      "cell_type": "code",
      "metadata": {
        "id": "WH7k2sGCcJPf"
      },
      "source": [
        "from keras.models import Sequential\n",
        "from keras.layers import Dense, LSTM, Dropout\n",
        "\n",
        "import tensorflow as tf\n",
        "tf.config.run_functions_eagerly(True)"
      ],
      "execution_count": 4,
      "outputs": []
    },
    {
      "cell_type": "code",
      "metadata": {
        "id": "Y1TB4E4zcMRL"
      },
      "source": [
        "rnn = Sequential()\n",
        "rnn.add(LSTM(units = 50, return_sequences =True, input_shape=(1, X.shape[1])))\n",
        "rnn.add(Dropout(0.25))"
      ],
      "execution_count": 5,
      "outputs": []
    },
    {
      "cell_type": "code",
      "metadata": {
        "id": "ygvcIxdxcOKJ"
      },
      "source": [
        "rnn.add(LSTM(units = 50, return_sequences =True))\n",
        "rnn.add(Dropout(0.25))"
      ],
      "execution_count": 6,
      "outputs": []
    },
    {
      "cell_type": "code",
      "metadata": {
        "id": "O6bcS9eLcP1w"
      },
      "source": [
        "rnn.add(LSTM(units = 25, return_sequences =True))\n",
        "rnn.add(Dropout(0.2))"
      ],
      "execution_count": 7,
      "outputs": []
    },
    {
      "cell_type": "code",
      "metadata": {
        "id": "xMzsuG2HcRFS"
      },
      "source": [
        "rnn.add(LSTM(units = 10))\n",
        "rnn.add(Dropout(0.2))"
      ],
      "execution_count": 8,
      "outputs": []
    },
    {
      "cell_type": "code",
      "metadata": {
        "id": "0yf5mj25cST9"
      },
      "source": [
        "rnn.add(Dense(units = 1))"
      ],
      "execution_count": 9,
      "outputs": []
    },
    {
      "cell_type": "code",
      "metadata": {
        "id": "aKMHBLxRcTjS"
      },
      "source": [
        "rnn.compile(optimizer = \"adam\", loss = \"mean_squared_error\")"
      ],
      "execution_count": 10,
      "outputs": []
    },
    {
      "cell_type": "code",
      "metadata": {
        "colab": {
          "base_uri": "https://localhost:8080/"
        },
        "id": "0NvtdSUlcU6l",
        "outputId": "3b48ccad-93d1-4d3a-b4ca-956eb6bc1aac"
      },
      "source": [
        "rnn.fit(X_train,y_train, epochs = 100, batch_size = 32)"
      ],
      "execution_count": 11,
      "outputs": [
        {
          "output_type": "stream",
          "name": "stderr",
          "text": [
            "/usr/local/lib/python3.7/dist-packages/tensorflow/python/data/ops/dataset_ops.py:4212: UserWarning: Even though the `tf.config.experimental_run_functions_eagerly` option is set, this option does not apply to tf.data functions. To force eager execution of tf.data functions, please use `tf.data.experimental.enable_debug_mode()`.\n",
            "  \"Even though the `tf.config.experimental_run_functions_eagerly` \"\n"
          ]
        },
        {
          "output_type": "stream",
          "name": "stdout",
          "text": [
            "Epoch 1/100\n",
            "238/238 [==============================] - 20s 65ms/step - loss: 0.2079\n",
            "Epoch 2/100\n",
            "238/238 [==============================] - 15s 64ms/step - loss: 0.1398\n",
            "Epoch 3/100\n",
            "238/238 [==============================] - 15s 63ms/step - loss: 0.1167\n",
            "Epoch 4/100\n",
            "238/238 [==============================] - 15s 65ms/step - loss: 0.0990\n",
            "Epoch 5/100\n",
            "238/238 [==============================] - 15s 64ms/step - loss: 0.0853\n",
            "Epoch 6/100\n",
            "238/238 [==============================] - 15s 64ms/step - loss: 0.0750\n",
            "Epoch 7/100\n",
            "238/238 [==============================] - 15s 64ms/step - loss: 0.0666\n",
            "Epoch 8/100\n",
            "238/238 [==============================] - 16s 66ms/step - loss: 0.0584\n",
            "Epoch 9/100\n",
            "238/238 [==============================] - 15s 64ms/step - loss: 0.0556\n",
            "Epoch 10/100\n",
            "238/238 [==============================] - 16s 65ms/step - loss: 0.0483\n",
            "Epoch 11/100\n",
            "238/238 [==============================] - 15s 64ms/step - loss: 0.0450\n",
            "Epoch 12/100\n",
            "238/238 [==============================] - 15s 64ms/step - loss: 0.0416\n",
            "Epoch 13/100\n",
            "238/238 [==============================] - 15s 64ms/step - loss: 0.0403\n",
            "Epoch 14/100\n",
            "238/238 [==============================] - 16s 66ms/step - loss: 0.0372\n",
            "Epoch 15/100\n",
            "238/238 [==============================] - 15s 64ms/step - loss: 0.0363\n",
            "Epoch 16/100\n",
            "238/238 [==============================] - 15s 64ms/step - loss: 0.0339\n",
            "Epoch 17/100\n",
            "238/238 [==============================] - 15s 65ms/step - loss: 0.0328\n",
            "Epoch 18/100\n",
            "238/238 [==============================] - 15s 64ms/step - loss: 0.0341\n",
            "Epoch 19/100\n",
            "238/238 [==============================] - 15s 64ms/step - loss: 0.0320\n",
            "Epoch 20/100\n",
            "238/238 [==============================] - 15s 65ms/step - loss: 0.0317\n",
            "Epoch 21/100\n",
            "238/238 [==============================] - 15s 65ms/step - loss: 0.0326\n",
            "Epoch 22/100\n",
            "238/238 [==============================] - 15s 65ms/step - loss: 0.0320\n",
            "Epoch 23/100\n",
            "238/238 [==============================] - 15s 64ms/step - loss: 0.0320\n",
            "Epoch 24/100\n",
            "238/238 [==============================] - 16s 66ms/step - loss: 0.0308\n",
            "Epoch 25/100\n",
            "238/238 [==============================] - 16s 65ms/step - loss: 0.0307\n",
            "Epoch 26/100\n",
            "238/238 [==============================] - 15s 65ms/step - loss: 0.0286\n",
            "Epoch 27/100\n",
            "238/238 [==============================] - 16s 65ms/step - loss: 0.0276\n",
            "Epoch 28/100\n",
            "238/238 [==============================] - 16s 66ms/step - loss: 0.0272\n",
            "Epoch 29/100\n",
            "238/238 [==============================] - 15s 65ms/step - loss: 0.0275\n",
            "Epoch 30/100\n",
            "238/238 [==============================] - 16s 65ms/step - loss: 0.0261\n",
            "Epoch 31/100\n",
            "238/238 [==============================] - 16s 66ms/step - loss: 0.0261\n",
            "Epoch 32/100\n",
            "238/238 [==============================] - 15s 65ms/step - loss: 0.0263\n",
            "Epoch 33/100\n",
            "238/238 [==============================] - 15s 65ms/step - loss: 0.0256\n",
            "Epoch 34/100\n",
            "238/238 [==============================] - 15s 65ms/step - loss: 0.0258\n",
            "Epoch 35/100\n",
            "238/238 [==============================] - 16s 65ms/step - loss: 0.0244\n",
            "Epoch 36/100\n",
            "238/238 [==============================] - 16s 65ms/step - loss: 0.0245\n",
            "Epoch 37/100\n",
            "238/238 [==============================] - 15s 65ms/step - loss: 0.0219\n",
            "Epoch 38/100\n",
            "238/238 [==============================] - 15s 64ms/step - loss: 0.0229\n",
            "Epoch 39/100\n",
            "238/238 [==============================] - 15s 64ms/step - loss: 0.0223\n",
            "Epoch 40/100\n",
            "238/238 [==============================] - 16s 66ms/step - loss: 0.0213\n",
            "Epoch 41/100\n",
            "238/238 [==============================] - 15s 65ms/step - loss: 0.0207\n",
            "Epoch 42/100\n",
            "238/238 [==============================] - 16s 65ms/step - loss: 0.0197\n",
            "Epoch 43/100\n",
            "238/238 [==============================] - 16s 65ms/step - loss: 0.0202\n",
            "Epoch 44/100\n",
            "238/238 [==============================] - 15s 65ms/step - loss: 0.0224\n",
            "Epoch 45/100\n",
            "238/238 [==============================] - 15s 65ms/step - loss: 0.0199\n",
            "Epoch 46/100\n",
            "238/238 [==============================] - 16s 67ms/step - loss: 0.0200\n",
            "Epoch 47/100\n",
            "238/238 [==============================] - 16s 66ms/step - loss: 0.0192\n",
            "Epoch 48/100\n",
            "238/238 [==============================] - 16s 67ms/step - loss: 0.0215\n",
            "Epoch 49/100\n",
            "238/238 [==============================] - 16s 67ms/step - loss: 0.0195\n",
            "Epoch 50/100\n",
            "238/238 [==============================] - 16s 65ms/step - loss: 0.0192\n",
            "Epoch 51/100\n",
            "238/238 [==============================] - 15s 65ms/step - loss: 0.0199\n",
            "Epoch 52/100\n",
            "238/238 [==============================] - 15s 65ms/step - loss: 0.0200\n",
            "Epoch 53/100\n",
            "238/238 [==============================] - 15s 64ms/step - loss: 0.0199\n",
            "Epoch 54/100\n",
            "238/238 [==============================] - 15s 65ms/step - loss: 0.0199\n",
            "Epoch 55/100\n",
            "238/238 [==============================] - 15s 62ms/step - loss: 0.0182\n",
            "Epoch 56/100\n",
            "238/238 [==============================] - 15s 63ms/step - loss: 0.0184\n",
            "Epoch 57/100\n",
            "238/238 [==============================] - 15s 64ms/step - loss: 0.0181\n",
            "Epoch 58/100\n",
            "238/238 [==============================] - 15s 64ms/step - loss: 0.0175\n",
            "Epoch 59/100\n",
            "238/238 [==============================] - 15s 63ms/step - loss: 0.0185\n",
            "Epoch 60/100\n",
            "238/238 [==============================] - 15s 63ms/step - loss: 0.0196\n",
            "Epoch 61/100\n",
            "238/238 [==============================] - 15s 63ms/step - loss: 0.0198\n",
            "Epoch 62/100\n",
            "238/238 [==============================] - 15s 64ms/step - loss: 0.0190\n",
            "Epoch 63/100\n",
            "238/238 [==============================] - 15s 64ms/step - loss: 0.0180\n",
            "Epoch 64/100\n",
            "238/238 [==============================] - 15s 63ms/step - loss: 0.0184\n",
            "Epoch 65/100\n",
            "238/238 [==============================] - 15s 64ms/step - loss: 0.0182\n",
            "Epoch 66/100\n",
            "238/238 [==============================] - 15s 64ms/step - loss: 0.0184\n",
            "Epoch 67/100\n",
            "238/238 [==============================] - 15s 64ms/step - loss: 0.0191\n",
            "Epoch 68/100\n",
            "238/238 [==============================] - 16s 65ms/step - loss: 0.0178\n",
            "Epoch 69/100\n",
            "238/238 [==============================] - 15s 63ms/step - loss: 0.0181\n",
            "Epoch 70/100\n",
            "238/238 [==============================] - 15s 63ms/step - loss: 0.0171\n",
            "Epoch 71/100\n",
            "238/238 [==============================] - 15s 63ms/step - loss: 0.0164\n",
            "Epoch 72/100\n",
            "238/238 [==============================] - 15s 64ms/step - loss: 0.0183\n",
            "Epoch 73/100\n",
            "238/238 [==============================] - 15s 64ms/step - loss: 0.0184\n",
            "Epoch 74/100\n",
            "238/238 [==============================] - 15s 64ms/step - loss: 0.0172\n",
            "Epoch 75/100\n",
            "238/238 [==============================] - 15s 65ms/step - loss: 0.0175\n",
            "Epoch 76/100\n",
            "238/238 [==============================] - 15s 64ms/step - loss: 0.0176\n",
            "Epoch 77/100\n",
            "238/238 [==============================] - 15s 65ms/step - loss: 0.0184\n",
            "Epoch 78/100\n",
            "238/238 [==============================] - 15s 64ms/step - loss: 0.0171\n",
            "Epoch 79/100\n",
            "238/238 [==============================] - 15s 64ms/step - loss: 0.0169\n",
            "Epoch 80/100\n",
            "238/238 [==============================] - 15s 64ms/step - loss: 0.0179\n",
            "Epoch 81/100\n",
            "238/238 [==============================] - 15s 64ms/step - loss: 0.0167\n",
            "Epoch 82/100\n",
            "238/238 [==============================] - 15s 64ms/step - loss: 0.0164\n",
            "Epoch 83/100\n",
            "238/238 [==============================] - 15s 65ms/step - loss: 0.0176\n",
            "Epoch 84/100\n",
            "238/238 [==============================] - 16s 66ms/step - loss: 0.0169\n",
            "Epoch 85/100\n",
            "238/238 [==============================] - 15s 64ms/step - loss: 0.0170\n",
            "Epoch 86/100\n",
            "238/238 [==============================] - 15s 64ms/step - loss: 0.0163\n",
            "Epoch 87/100\n",
            "238/238 [==============================] - 15s 64ms/step - loss: 0.0163\n",
            "Epoch 88/100\n",
            "238/238 [==============================] - 15s 64ms/step - loss: 0.0163\n",
            "Epoch 89/100\n",
            "238/238 [==============================] - 15s 64ms/step - loss: 0.0158\n",
            "Epoch 90/100\n",
            "238/238 [==============================] - 15s 65ms/step - loss: 0.0157\n",
            "Epoch 91/100\n",
            "238/238 [==============================] - 15s 64ms/step - loss: 0.0158\n",
            "Epoch 92/100\n",
            "238/238 [==============================] - 15s 65ms/step - loss: 0.0148\n",
            "Epoch 93/100\n",
            "238/238 [==============================] - 15s 65ms/step - loss: 0.0150\n",
            "Epoch 94/100\n",
            "238/238 [==============================] - 15s 65ms/step - loss: 0.0170\n",
            "Epoch 95/100\n",
            "238/238 [==============================] - 15s 64ms/step - loss: 0.0162\n",
            "Epoch 96/100\n",
            "238/238 [==============================] - 16s 65ms/step - loss: 0.0153\n",
            "Epoch 97/100\n",
            "238/238 [==============================] - 16s 65ms/step - loss: 0.0154\n",
            "Epoch 98/100\n",
            "238/238 [==============================] - 15s 65ms/step - loss: 0.0156\n",
            "Epoch 99/100\n",
            "238/238 [==============================] - 15s 64ms/step - loss: 0.0152\n",
            "Epoch 100/100\n",
            "238/238 [==============================] - 15s 64ms/step - loss: 0.0146\n"
          ]
        },
        {
          "output_type": "execute_result",
          "data": {
            "text/plain": [
              "<keras.callbacks.History at 0x7f2f77474c50>"
            ]
          },
          "metadata": {},
          "execution_count": 11
        }
      ]
    },
    {
      "cell_type": "code",
      "metadata": {
        "colab": {
          "base_uri": "https://localhost:8080/"
        },
        "id": "wCha2uE0cXXt",
        "outputId": "c7a17b41-590a-4272-ca5b-95a91553ce4d"
      },
      "source": [
        "pred = rnn.predict(test_c)"
      ],
      "execution_count": 13,
      "outputs": [
        {
          "output_type": "stream",
          "name": "stderr",
          "text": [
            "/usr/local/lib/python3.7/dist-packages/tensorflow/python/data/ops/dataset_ops.py:4212: UserWarning: Even though the `tf.config.experimental_run_functions_eagerly` option is set, this option does not apply to tf.data functions. To force eager execution of tf.data functions, please use `tf.data.experimental.enable_debug_mode()`.\n",
            "  \"Even though the `tf.config.experimental_run_functions_eagerly` \"\n"
          ]
        }
      ]
    },
    {
      "cell_type": "code",
      "metadata": {
        "id": "yNEVNSSUiYiv"
      },
      "source": [
        "pred = pred.reshape(1,-1)"
      ],
      "execution_count": 17,
      "outputs": []
    },
    {
      "cell_type": "code",
      "metadata": {
        "id": "hfjuqkybiczW"
      },
      "source": [
        "ln = list(map(lambda x: 1 if (x>0.5) else 0,list(pred)[0]))"
      ],
      "execution_count": 28,
      "outputs": []
    },
    {
      "cell_type": "code",
      "metadata": {
        "id": "Kon8JoGAjYrM"
      },
      "source": [
        "sample = pd.read_csv(\"/content/drive/MyDrive/disaster-tweets/sample_submission.csv\")"
      ],
      "execution_count": 31,
      "outputs": []
    },
    {
      "cell_type": "code",
      "metadata": {
        "id": "wq1t-Mz0jc1Z"
      },
      "source": [
        "sample['target'] = ln"
      ],
      "execution_count": 32,
      "outputs": []
    },
    {
      "cell_type": "code",
      "metadata": {
        "colab": {
          "base_uri": "https://localhost:8080/",
          "height": 204
        },
        "id": "QMSdudVkjjig",
        "outputId": "84bf19e6-e404-4bb8-b985-18e9e28f1a6e"
      },
      "source": [
        "sample.head()"
      ],
      "execution_count": 33,
      "outputs": [
        {
          "output_type": "execute_result",
          "data": {
            "text/html": [
              "<div>\n",
              "<style scoped>\n",
              "    .dataframe tbody tr th:only-of-type {\n",
              "        vertical-align: middle;\n",
              "    }\n",
              "\n",
              "    .dataframe tbody tr th {\n",
              "        vertical-align: top;\n",
              "    }\n",
              "\n",
              "    .dataframe thead th {\n",
              "        text-align: right;\n",
              "    }\n",
              "</style>\n",
              "<table border=\"1\" class=\"dataframe\">\n",
              "  <thead>\n",
              "    <tr style=\"text-align: right;\">\n",
              "      <th></th>\n",
              "      <th>id</th>\n",
              "      <th>target</th>\n",
              "    </tr>\n",
              "  </thead>\n",
              "  <tbody>\n",
              "    <tr>\n",
              "      <th>0</th>\n",
              "      <td>0</td>\n",
              "      <td>0</td>\n",
              "    </tr>\n",
              "    <tr>\n",
              "      <th>1</th>\n",
              "      <td>2</td>\n",
              "      <td>1</td>\n",
              "    </tr>\n",
              "    <tr>\n",
              "      <th>2</th>\n",
              "      <td>3</td>\n",
              "      <td>1</td>\n",
              "    </tr>\n",
              "    <tr>\n",
              "      <th>3</th>\n",
              "      <td>9</td>\n",
              "      <td>1</td>\n",
              "    </tr>\n",
              "    <tr>\n",
              "      <th>4</th>\n",
              "      <td>11</td>\n",
              "      <td>1</td>\n",
              "    </tr>\n",
              "  </tbody>\n",
              "</table>\n",
              "</div>"
            ],
            "text/plain": [
              "   id  target\n",
              "0   0       0\n",
              "1   2       1\n",
              "2   3       1\n",
              "3   9       1\n",
              "4  11       1"
            ]
          },
          "metadata": {},
          "execution_count": 33
        }
      ]
    },
    {
      "cell_type": "code",
      "metadata": {
        "id": "vqD946MtkupV"
      },
      "source": [
        "sample.to_csv(\"/content/drive/MyDrive/disaster-tweets/sample-2.csv\", index=False)"
      ],
      "execution_count": 35,
      "outputs": []
    },
    {
      "cell_type": "code",
      "metadata": {
        "id": "gTZLKg12kx-o"
      },
      "source": [
        ""
      ],
      "execution_count": null,
      "outputs": []
    }
  ]
}